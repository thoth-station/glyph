{
 "cells": [
  {
   "cell_type": "markdown",
   "metadata": {},
   "source": [
    "# Data Cleanup"
   ]
  },
  {
   "cell_type": "markdown",
   "metadata": {},
   "source": [
    "commits-labeled.txt is the annotated dataset of 5,631 commits from a set of different large-scale open-source projects on Github. This file is pre-processed to generate commits.train"
   ]
  },
  {
   "cell_type": "code",
   "execution_count": 1,
   "metadata": {},
   "outputs": [],
   "source": [
    "!cat ../data/commits-labeled.txt | sed -e \"s/\\([.\\!?,'/()]\\)/ \\1 /g\" | tr \"[:upper:]\" \"[:lower:]\" > ../data/commits.train"
   ]
  },
  {
   "cell_type": "markdown",
   "metadata": {},
   "source": [
    "# Training"
   ]
  },
  {
   "cell_type": "markdown",
   "metadata": {},
   "source": [
    "Now we train a supervised classifier using automatic hyperparameter tuning. The model is saved to disk."
   ]
  },
  {
   "cell_type": "code",
   "execution_count": 5,
   "metadata": {},
   "outputs": [],
   "source": [
    "import fasttext\n",
    "model = fasttext.train_supervised(input='../data/commits.train', autotuneValidationFile='../data/commits.train', loss=\"hs\")\n",
    "model.save_model(\"../data/model_commits_v2.bin\")\n",
    "# Quantize the model\n",
    "# model.quantize(input=None,\n",
    "#                   qout=False,\n",
    "#                   cutoff=0,\n",
    "#                   retrain=False,\n",
    "#                   epoch=None,\n",
    "#                   lr=None,\n",
    "#                   thread=None,\n",
    "#                   verbose=None,\n",
    "#                   dsub=2,\n",
    "#                   qnorm=False,\n",
    "#                  )\n",
    "model.quantize(input='../data/commits.train', qnorm=True, retrain=True, cutoff=100000)\n",
    "model.save_model(\"../data/model_commits_v2_quant.bin\")"
   ]
  },
  {
   "cell_type": "markdown",
   "metadata": {},
   "source": [
    "# Classification"
   ]
  },
  {
   "cell_type": "code",
   "execution_count": 6,
   "metadata": {},
   "outputs": [],
   "source": [
    "import pandas as pd\n",
    "import sys\n",
    "from fasttext import load_model"
   ]
  },
  {
   "cell_type": "code",
   "execution_count": 7,
   "metadata": {},
   "outputs": [],
   "source": [
    "classifier = load_model(\"../data/model_commits_v2_quant.bin\") "
   ]
  },
  {
   "cell_type": "code",
   "execution_count": 8,
   "metadata": {},
   "outputs": [
    {
     "name": "stdout",
     "output_type": "stream",
     "text": [
      "Total commits : 32034\n"
     ]
    }
   ],
   "source": [
    "from pygit2 import Repository\n",
    "from pygit2 import GIT_SORT_TOPOLOGICAL, GIT_SORT_REVERSE\n",
    "\n",
    "#Path of repository to be analyzed\n",
    "repo = Repository('/home/tussharm/origin/.git')\n",
    "\n",
    "orig_messages = []\n",
    "\n",
    "for commit in repo.walk(repo.head.target, GIT_SORT_TOPOLOGICAL):\n",
    "    orig_messages.append(commit.message)\n",
    "    \n",
    "print(\"Total commits : \" + str(len(orig_messages)))\n",
    "\n",
    "df = pd.DataFrame(orig_messages, columns = ['message']) "
   ]
  },
  {
   "cell_type": "code",
   "execution_count": 9,
   "metadata": {},
   "outputs": [],
   "source": [
    "# replace \\n with space\n",
    "df = df.replace('\\n','', regex=True)"
   ]
  },
  {
   "cell_type": "code",
   "execution_count": 10,
   "metadata": {},
   "outputs": [
    {
     "data": {
      "text/plain": [
       "(32034, 1)"
      ]
     },
     "execution_count": 10,
     "metadata": {},
     "output_type": "execute_result"
    }
   ],
   "source": [
    "# check the shape of the Github data\n",
    "df.shape"
   ]
  },
  {
   "cell_type": "code",
   "execution_count": 11,
   "metadata": {},
   "outputs": [
    {
     "data": {
      "text/plain": [
       "Index(['message'], dtype='object')"
      ]
     },
     "execution_count": 11,
     "metadata": {},
     "output_type": "execute_result"
    }
   ],
   "source": [
    "df.columns"
   ]
  },
  {
   "cell_type": "markdown",
   "metadata": {},
   "source": [
    "##### Normalize the data"
   ]
  },
  {
   "cell_type": "code",
   "execution_count": 12,
   "metadata": {},
   "outputs": [],
   "source": [
    "# convert the commit message column into string\n",
    "commits = list(df['message'].astype(str))"
   ]
  },
  {
   "cell_type": "markdown",
   "metadata": {},
   "source": [
    "##### Predict using fastText "
   ]
  },
  {
   "cell_type": "code",
   "execution_count": 13,
   "metadata": {},
   "outputs": [],
   "source": [
    "# predict the label with fastText\n",
    "labels = classifier.predict(commits)  "
   ]
  },
  {
   "cell_type": "code",
   "execution_count": 14,
   "metadata": {},
   "outputs": [],
   "source": [
    "res = list(zip(*labels))\n",
    "res_list = [x[0] for x in res]\n",
    "lst2 = [item[0] for item in res_list]\n",
    "df['labels_predicted'] = lst2"
   ]
  },
  {
   "cell_type": "markdown",
   "metadata": {},
   "source": [
    "##### Check the predictions made"
   ]
  },
  {
   "cell_type": "code",
   "execution_count": 15,
   "metadata": {},
   "outputs": [
    {
     "data": {
      "text/html": [
       "<div>\n",
       "<style scoped>\n",
       "    .dataframe tbody tr th:only-of-type {\n",
       "        vertical-align: middle;\n",
       "    }\n",
       "\n",
       "    .dataframe tbody tr th {\n",
       "        vertical-align: top;\n",
       "    }\n",
       "\n",
       "    .dataframe thead th {\n",
       "        text-align: right;\n",
       "    }\n",
       "</style>\n",
       "<table border=\"1\" class=\"dataframe\">\n",
       "  <thead>\n",
       "    <tr style=\"text-align: right;\">\n",
       "      <th></th>\n",
       "      <th>message</th>\n",
       "      <th>labels_predicted</th>\n",
       "    </tr>\n",
       "  </thead>\n",
       "  <tbody>\n",
       "    <tr>\n",
       "      <th>0</th>\n",
       "      <td>Merge pull request #24981 from gnufied/cleanup...</td>\n",
       "      <td>__label__nonfunctional</td>\n",
       "    </tr>\n",
       "    <tr>\n",
       "      <th>1</th>\n",
       "      <td>UPSTREAM: 91689: Ensure CleanupActionHandle al...</td>\n",
       "      <td>__label__features</td>\n",
       "    </tr>\n",
       "    <tr>\n",
       "      <th>2</th>\n",
       "      <td>UPSTREAM: 91221: Tolerate pod not found errors...</td>\n",
       "      <td>__label__corrective</td>\n",
       "    </tr>\n",
       "    <tr>\n",
       "      <th>3</th>\n",
       "      <td>UPSTREAM: 90773: Storage e2es leaving namespac...</td>\n",
       "      <td>__label__features</td>\n",
       "    </tr>\n",
       "    <tr>\n",
       "      <th>4</th>\n",
       "      <td>Merge pull request #25113 from dmage/image-own...</td>\n",
       "      <td>__label__nonfunctional</td>\n",
       "    </tr>\n",
       "    <tr>\n",
       "      <th>...</th>\n",
       "      <td>...</td>\n",
       "      <td>...</td>\n",
       "    </tr>\n",
       "    <tr>\n",
       "      <th>32029</th>\n",
       "      <td>bump(github.com/spf13/pflag): 463bdc838f2b35e9...</td>\n",
       "      <td>__label__features</td>\n",
       "    </tr>\n",
       "    <tr>\n",
       "      <th>32030</th>\n",
       "      <td>bump(github.com/spf13/cobra): 8d72c1e167c7ed19...</td>\n",
       "      <td>__label__features</td>\n",
       "    </tr>\n",
       "    <tr>\n",
       "      <th>32031</th>\n",
       "      <td>bump(github.com/GoogleCloudPlatform/kubernetes...</td>\n",
       "      <td>__label__features</td>\n",
       "    </tr>\n",
       "    <tr>\n",
       "      <th>32032</th>\n",
       "      <td>Build, test, and CLI environment for OpenShift 3</td>\n",
       "      <td>__label__features</td>\n",
       "    </tr>\n",
       "    <tr>\n",
       "      <th>32033</th>\n",
       "      <td>New project</td>\n",
       "      <td>__label__features</td>\n",
       "    </tr>\n",
       "  </tbody>\n",
       "</table>\n",
       "<p>32034 rows × 2 columns</p>\n",
       "</div>"
      ],
      "text/plain": [
       "                                                 message  \\\n",
       "0      Merge pull request #24981 from gnufied/cleanup...   \n",
       "1      UPSTREAM: 91689: Ensure CleanupActionHandle al...   \n",
       "2      UPSTREAM: 91221: Tolerate pod not found errors...   \n",
       "3      UPSTREAM: 90773: Storage e2es leaving namespac...   \n",
       "4      Merge pull request #25113 from dmage/image-own...   \n",
       "...                                                  ...   \n",
       "32029  bump(github.com/spf13/pflag): 463bdc838f2b35e9...   \n",
       "32030  bump(github.com/spf13/cobra): 8d72c1e167c7ed19...   \n",
       "32031  bump(github.com/GoogleCloudPlatform/kubernetes...   \n",
       "32032   Build, test, and CLI environment for OpenShift 3   \n",
       "32033                                        New project   \n",
       "\n",
       "             labels_predicted  \n",
       "0      __label__nonfunctional  \n",
       "1           __label__features  \n",
       "2         __label__corrective  \n",
       "3           __label__features  \n",
       "4      __label__nonfunctional  \n",
       "...                       ...  \n",
       "32029       __label__features  \n",
       "32030       __label__features  \n",
       "32031       __label__features  \n",
       "32032       __label__features  \n",
       "32033       __label__features  \n",
       "\n",
       "[32034 rows x 2 columns]"
      ]
     },
     "execution_count": 15,
     "metadata": {},
     "output_type": "execute_result"
    }
   ],
   "source": [
    "df"
   ]
  },
  {
   "cell_type": "markdown",
   "metadata": {},
   "source": [
    "##### Predicted labels for all commits saved in a csv file"
   ]
  },
  {
   "cell_type": "code",
   "execution_count": 16,
   "metadata": {},
   "outputs": [],
   "source": [
    "df.to_csv(\"../output/output.csv\", sep='\\t')"
   ]
  }
 ],
 "metadata": {
  "kernelspec": {
   "display_name": "Python 3",
   "language": "python",
   "name": "python3"
  },
  "language_info": {
   "codemirror_mode": {
    "name": "ipython",
    "version": 3
   },
   "file_extension": ".py",
   "mimetype": "text/x-python",
   "name": "python",
   "nbconvert_exporter": "python",
   "pygments_lexer": "ipython3",
   "version": "3.6.8"
  }
 },
 "nbformat": 4,
 "nbformat_minor": 2
}
